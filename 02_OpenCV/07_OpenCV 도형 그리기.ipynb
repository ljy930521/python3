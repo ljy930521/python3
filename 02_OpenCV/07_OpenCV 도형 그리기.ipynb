{
 "cells": [
  {
   "cell_type": "markdown",
   "metadata": {
    "colab_type": "text",
    "id": "view-in-github"
   },
   "source": [
    "<a href=\"https://colab.research.google.com/github/ndb796/Python-Data-Analysis-and-Image-Processing-Tutorial/blob/master/12.%20OpenCV%20%EB%8F%84%ED%98%95%20%EA%B7%B8%EB%A6%AC%EA%B8%B0/OpenCV%20%EB%8F%84%ED%98%95%20%EA%B7%B8%EB%A6%AC%EA%B8%B0.ipynb\" target=\"_parent\"><img src=\"https://colab.research.google.com/assets/colab-badge.svg\" alt=\"Open In Colab\"/></a>"
   ]
  },
  {
   "cell_type": "markdown",
   "metadata": {
    "colab_type": "text",
    "id": "LPUElEH5tnDa"
   },
   "source": [
    "## OpenCV 도형 그리기\n",
    "[강의 노트](https://github.com/ndb796/Python-Data-Analysis-and-Image-Processing-Tutorial/blob/master/12.%20OpenCV%20%EB%8F%84%ED%98%95%20%EA%B7%B8%EB%A6%AC%EA%B8%B0/Python%20%EB%8D%B0%EC%9D%B4%ED%84%B0%20%EB%B6%84%EC%84%9D%EA%B3%BC%20%EC%9D%B4%EB%AF%B8%EC%A7%80%20%EC%B2%98%EB%A6%AC%20-%20OpenCV%20%EB%8F%84%ED%98%95%20%EA%B7%B8%EB%A6%AC%EA%B8%B0.pdf)"
   ]
  },
  {
   "cell_type": "markdown",
   "metadata": {
    "colab_type": "text",
    "id": "UtmSO9nDtfVr"
   },
   "source": [
    "cv2.line(image, start, end, color, thickness): 하나의 직선을 그리는 함수\n",
    "\n",
    "- start: 시작 좌표 (2차원)\n",
    "- end: 종료 좌표 (2차원)\n",
    "- thickness: 선의 두께"
   ]
  },
  {
   "cell_type": "code",
   "execution_count": 0,
   "metadata": {
    "colab": {
     "base_uri": "https://localhost:8080/",
     "height": 269
    },
    "colab_type": "code",
    "id": "0QuCX3vPt_ky",
    "outputId": "2bf97614-32e5-45a7-d7b3-768121ab458e"
   },
   "outputs": [
    {
     "data": {
      "image/png": "[encoded data removed]",
      "text/plain": [
       "<Figure size 432x288 with 1 Axes>"
      ]
     },
     "metadata": {
      "tags": []
     },
     "output_type": "display_data"
    }
   ],
   "source": [
    "import cv2\n",
    "import numpy as np\n",
    "import matplotlib.pyplot as plt\n",
    "\n",
    "image = np.full((512, 512, 3), 255, np.uint8)\n",
    "image = cv2.line(image, (0, 0), (255, 255), (255, 0, 0), 3)\n",
    "\n",
    "plt.imshow(image)\n",
    "plt.show()"
   ]
  },
  {
   "cell_type": "markdown",
   "metadata": {
    "colab_type": "text",
    "id": "yXvAguzMutmB"
   },
   "source": [
    "cv2.rectangle(image, start, end, color, thickness): 하나의 사각형을 그리는 함수\n",
    "\n",
    "- start: 시작 좌표 (2차원)\n",
    "- end: 종료 좌표 (2차원)\n",
    "- thickness: 선의 두께 (채우기: -1)"
   ]
  },
  {
   "cell_type": "code",
   "execution_count": 2,
   "metadata": {
    "colab": {
     "base_uri": "https://localhost:8080/",
     "height": 269
    },
    "colab_type": "code",
    "id": "1xOYyGAzuP3x",
    "outputId": "8aae029d-8579-4d3b-e908-2f02ea2d5ee0"
   },
   "outputs": [
    {
     "data": {
      "image/png": "[encoded data removed]",
      "text/plain": [
       "<Figure size 432x288 with 1 Axes>"
      ]
     },
     "metadata": {
      "needs_background": "light"
     },
     "output_type": "display_data"
    }
   ],
   "source": [
    "import cv2\n",
    "import numpy as np\n",
    "import matplotlib.pyplot as plt\n",
    "\n",
    "image = np.full((512, 512, 3), 255, np.uint8)\n",
    "image = cv2.rectangle(image, (20, 20), (255, 255), (255, 0, 0), 2)\n",
    "# image = cv2.rectangle(image, (20, 20), (255, 255), (255, 0, 0), -1)\n",
    "\n",
    "plt.imshow(image)\n",
    "plt.show()"
   ]
  },
  {
   "cell_type": "markdown",
   "metadata": {
    "colab_type": "text",
    "id": "mkMN5VY_u6Lp"
   },
   "source": [
    "cv2.circle(image, center, radian, color, thickness): 하나의 원을 그리는 함수\n",
    "\n",
    "- center: 원의 중심 (2차원)\n",
    "- radian: 반지름\n",
    "- thickness: 선의 두께 (채우기: -1)"
   ]
  },
  {
   "cell_type": "code",
   "execution_count": 0,
   "metadata": {
    "colab": {
     "base_uri": "https://localhost:8080/",
     "height": 269
    },
    "colab_type": "code",
    "id": "lJtMSPN6ur_e",
    "outputId": "fde7c9e5-55dc-4bff-8e5c-9598fa0c3c8c"
   },
   "outputs": [
    {
     "data": {
      "image/png": "[encoded data removed]",
      "text/plain": [
       "<Figure size 432x288 with 1 Axes>"
      ]
     },
     "metadata": {
      "tags": []
     },
     "output_type": "display_data"
    }
   ],
   "source": [
    "import cv2\n",
    "import numpy as np\n",
    "import matplotlib.pyplot as plt\n",
    "\n",
    "image = np.full((512, 512, 3), 255, np.uint8)\n",
    "image = cv2.circle(image, (255, 255), 30, (255, 0, 0), 3)\n",
    "\n",
    "plt.imshow(image)\n",
    "plt.show()"
   ]
  },
  {
   "cell_type": "markdown",
   "metadata": {
    "colab_type": "text",
    "id": "zg5B8SVfvdIy"
   },
   "source": [
    "cv2.polylines(image, points, is_closed, color, thickness): 하나의 다각형을 그리는 함수\n",
    "\n",
    "- points: 꼭지점들\n",
    "- is_closed: 닫힌 도형 여부\n",
    "- thickness: 선의 두께 (채우기: -1)"
   ]
  },
  {
   "cell_type": "code",
   "execution_count": 0,
   "metadata": {
    "colab": {
     "base_uri": "https://localhost:8080/",
     "height": 269
    },
    "colab_type": "code",
    "id": "9NUB5QmNvT9y",
    "outputId": "32da97b7-89aa-4621-8847-5e5739397011"
   },
   "outputs": [
    {
     "data": {
      "image/png": "[encoded data removed]",
      "text/plain": [
       "<Figure size 432x288 with 1 Axes>"
      ]
     },
     "metadata": {
      "tags": []
     },
     "output_type": "display_data"
    }
   ],
   "source": [
    "import cv2\n",
    "import numpy as np\n",
    "import matplotlib.pyplot as plt\n",
    "\n",
    "image = np.full((512, 512, 3), 255, np.uint8)\n",
    "points = np.array([[5, 5], [128, 258], [483, 444], [400, 150]])\n",
    "image = cv2.polylines(image, [points], True, (0, 0, 255), 4)\n",
    "\n",
    "plt.imshow(image)\n",
    "plt.show()"
   ]
  },
  {
   "cell_type": "markdown",
   "metadata": {
    "colab_type": "text",
    "id": "vFKnoGGFwmbt"
   },
   "source": [
    "cv2.putText(image, text, position, font_type, font_scale, color): 하나의 텍스트를 그리는 함수\n",
    "\n",
    "- position: 텍스트가 출력될 위치\n",
    "- font_type: 글씨체\n",
    "- font_scale: 글씨 크기 가중치"
   ]
  },
  {
   "cell_type": "code",
   "execution_count": 0,
   "metadata": {
    "colab": {
     "base_uri": "https://localhost:8080/",
     "height": 269
    },
    "colab_type": "code",
    "id": "hzydaUpUwe8L",
    "outputId": "620ff84d-170b-42b9-c713-25dfa006d023"
   },
   "outputs": [
    {
     "data": {
      "image/png": "[encoded data removed]",
      "text/plain": [
       "<Figure size 432x288 with 1 Axes>"
      ]
     },
     "metadata": {
      "tags": []
     },
     "output_type": "display_data"
    }
   ],
   "source": [
    "import cv2\n",
    "import numpy as np\n",
    "import matplotlib.pyplot as plt\n",
    "\n",
    "image = np.full((512, 512, 3), 255, np.uint8)\n",
    "image = cv2.putText(image, 'Hello World', (0, 200), cv2.FONT_ITALIC, 2, (255, 0, 0))\n",
    "\n",
    "plt.imshow(image)\n",
    "plt.show()"
   ]
  }
 ],
 "metadata": {
  "colab": {
   "collapsed_sections": [],
   "include_colab_link": true,
   "name": "OpenCV 도형 그리기",
   "provenance": [],
   "version": "0.3.2"
  },
  "kernelspec": {
   "display_name": "Python 3",
   "language": "python",
   "name": "python3"
  },
  "language_info": {
   "codemirror_mode": {
    "name": "ipython",
    "version": 3
   },
   "file_extension": ".py",
   "mimetype": "text/x-python",
   "name": "python",
   "nbconvert_exporter": "python",
   "pygments_lexer": "ipython3",
   "version": "3.7.6"
  }
 },
 "nbformat": 4,
 "nbformat_minor": 1
}
