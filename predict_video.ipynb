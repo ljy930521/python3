{
 "cells": [
  {
   "cell_type": "code",
   "execution_count": 1,
   "metadata": {},
   "outputs": [],
   "source": [
    "import dlib, cv2, sys\n",
    "from imutils import face_utils\n",
    "import numpy as np\n"
   ]
  },
  {
   "cell_type": "code",
   "execution_count": null,
   "metadata": {},
   "outputs": [],
   "source": [
    "\n",
    "SCALE_FACTOR = 0.2\n",
    "\n",
    "detector = dlib.cnn_face_detection_model_v1('dogHeadDetector.dat')\n",
    "predictor = dlib.shape_predictor('landmarkDetector.dat')\n",
    "\n",
    "#video_path = sys.argv[1]\n",
    "video_path = 'Puppy2.mp4'\n",
    "cap = cv2.VideoCapture(video_path)\n",
    "\n",
    "fourcc = cv2.VideoWriter_fourcc('m', 'p', '4', 'v')\n",
    "out = cv2.VideoWriter('%s_output.mp4' % (video_path.split('.')[0]), fourcc, cap.get(cv2.CAP_PROP_FPS), (int(cap.get(cv2.CAP_PROP_FRAME_WIDTH)), int(cap.get(cv2.CAP_PROP_FRAME_HEIGHT))))\n",
    "\n",
    "while cap.isOpened():\n",
    "  ret, img = cap.read()\n",
    "\n",
    "  if not ret:\n",
    "    break\n",
    "\n",
    "  img_result = img.copy()\n",
    "\n",
    "  img = cv2.cvtColor(img, cv2.COLOR_BGR2RGB)\n",
    "  img = cv2.resize(img, dsize=None, fx=SCALE_FACTOR, fy=SCALE_FACTOR)\n",
    "\n",
    "  dets = detector(img, upsample_num_times=1)\n",
    "\n",
    "  for i, d in enumerate(dets):\n",
    "    print(\"Detection {}: Left: {} Top: {} Right: {} Bottom: {} Confidence: {}\".format(i, d.rect.left(), d.rect.top(), d.rect.right(), d.rect.bottom(), d.confidence))\n",
    "\n",
    "    x1, y1 = int(d.rect.left() / SCALE_FACTOR), int(d.rect.top() / SCALE_FACTOR)\n",
    "    x2, y2 = int(d.rect.right() / SCALE_FACTOR), int(d.rect.bottom() / SCALE_FACTOR)\n",
    "\n",
    "    cv2.rectangle(img_result, pt1=(x1, y1), pt2=(x2, y2), thickness=2, color=(255,0,0), lineType=cv2.LINE_AA)\n",
    "\n",
    "    shape = predictor(img, d.rect)\n",
    "    shape = face_utils.shape_to_np(shape)\n",
    "\n",
    "    for i, p in enumerate(shape):\n",
    "      cv2.circle(img_result, center=tuple((p / SCALE_FACTOR).astype(int)), radius=5, color=(0,0,255), thickness=-1, lineType=cv2.LINE_AA)\n",
    "      cv2.putText(img_result, str(i), tuple((p / SCALE_FACTOR).astype(int)), cv2.FONT_HERSHEY_SIMPLEX, 1, (255,255,255), 2, cv2.LINE_AA)\n",
    "\n",
    "  out.write(img_result)\n",
    "  cv2.imshow('result', img_result)\n",
    "  if cv2.waitKey(1) == ord('q'):\n",
    "    break\n",
    "\n",
    "cap.release()\n",
    "out.release()"
   ]
  },
  {
   "cell_type": "code",
   "execution_count": null,
   "metadata": {},
   "outputs": [],
   "source": []
  }
 ],
 "metadata": {
  "kernelspec": {
   "display_name": "Python 3",
   "language": "python",
   "name": "python3"
  },
  "language_info": {
   "codemirror_mode": {
    "name": "ipython",
    "version": 3
   },
   "file_extension": ".py",
   "mimetype": "text/x-python",
   "name": "python",
   "nbconvert_exporter": "python",
   "pygments_lexer": "ipython3",
   "version": "3.7.6"
  }
 },
 "nbformat": 4,
 "nbformat_minor": 2
}
